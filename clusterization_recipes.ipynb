{
 "cells": [
  {
   "cell_type": "code",
   "execution_count": 1,
   "id": "19bdd5b4",
   "metadata": {},
   "outputs": [],
   "source": [
    "import pandas as pd\n",
    "import numpy as np\n",
    "import re\n",
    "from pymorphy2 import MorphAnalyzer\n",
    "from stop_words import get_stop_words\n",
    "import string\n",
    "\n",
    "import pymorphy2\n",
    "morph = pymorphy2.MorphAnalyzer()\n",
    "\n",
    "from scipy import spatial\n",
    "\n",
    "import pickle\n",
    "\n",
    "from transformers import TFAutoModel, AutoTokenizer\n",
    "\n",
    "import matplotlib.pyplot as plt\n",
    "from sklearn.cluster import KMeans\n",
    "from sklearn.metrics import silhouette_score\n",
    "\n",
    "from scipy.cluster.hierarchy import linkage, dendrogram\n",
    "\n",
    "from tqdm import tqdm"
   ]
  },
  {
   "cell_type": "markdown",
   "id": "f4960314",
   "metadata": {},
   "source": [
    "# Подготовка"
   ]
  },
  {
   "cell_type": "code",
   "execution_count": 2,
   "id": "50f9c340",
   "metadata": {},
   "outputs": [],
   "source": [
    "morpher = MorphAnalyzer()\n",
    "sw = set(get_stop_words(\"ru\"))\n",
    "exclude = set(string.punctuation)"
   ]
  },
  {
   "cell_type": "code",
   "execution_count": 3,
   "id": "03d6c6dd",
   "metadata": {},
   "outputs": [
    {
     "name": "stderr",
     "output_type": "stream",
     "text": [
      "Some layers from the model checkpoint at Geotrend/bert-base-ru-cased were not used when initializing TFBertModel: ['mlm___cls']\n",
      "- This IS expected if you are initializing TFBertModel from the checkpoint of a model trained on another task or with another architecture (e.g. initializing a BertForSequenceClassification model from a BertForPreTraining model).\n",
      "- This IS NOT expected if you are initializing TFBertModel from the checkpoint of a model that you expect to be exactly identical (initializing a BertForSequenceClassification model from a BertForSequenceClassification model).\n",
      "All the layers of TFBertModel were initialized from the model checkpoint at Geotrend/bert-base-ru-cased.\n",
      "If your task is similar to the task the model of the checkpoint was trained on, you can already use TFBertModel for predictions without further training.\n"
     ]
    }
   ],
   "source": [
    "# Модели BERT для токенизации\n",
    "bert = TFAutoModel.from_pretrained(\"Geotrend/bert-base-ru-cased\")\n",
    "tokenizer = AutoTokenizer.from_pretrained(\"Geotrend/bert-base-ru-cased\")"
   ]
  },
  {
   "cell_type": "code",
   "execution_count": 4,
   "id": "3cb9b532",
   "metadata": {},
   "outputs": [],
   "source": [
    "df = pd.read_pickle('df_km.pickle')"
   ]
  },
  {
   "cell_type": "code",
   "execution_count": 6,
   "id": "d9467ff0",
   "metadata": {},
   "outputs": [],
   "source": [
    "# ищу в df не текстовые имена\n",
    "for i in df.iterrows():\n",
    "    text = list(i)[1][1]\n",
    "#     print(list(i)[1][1])\n",
    "#     text = i['name']\n",
    "    if isinstance(text, str):\n",
    "        pass\n",
    "    else:\n",
    "        print(list(i)[1][0])\n",
    "        "
   ]
  },
  {
   "cell_type": "code",
   "execution_count": 8,
   "id": "1206597e",
   "metadata": {},
   "outputs": [
    {
     "data": {
      "text/html": [
       "<div>\n",
       "<style scoped>\n",
       "    .dataframe tbody tr th:only-of-type {\n",
       "        vertical-align: middle;\n",
       "    }\n",
       "\n",
       "    .dataframe tbody tr th {\n",
       "        vertical-align: top;\n",
       "    }\n",
       "\n",
       "    .dataframe thead th {\n",
       "        text-align: right;\n",
       "    }\n",
       "</style>\n",
       "<table border=\"1\" class=\"dataframe\">\n",
       "  <thead>\n",
       "    <tr style=\"text-align: right;\">\n",
       "      <th></th>\n",
       "      <th>id</th>\n",
       "      <th>name</th>\n",
       "      <th>embeding</th>\n",
       "      <th>km_30</th>\n",
       "      <th>km_60</th>\n",
       "      <th>km_90</th>\n",
       "      <th>km_120</th>\n",
       "      <th>km_150</th>\n",
       "      <th>km_180</th>\n",
       "      <th>km_210</th>\n",
       "      <th>...</th>\n",
       "      <th>km_720</th>\n",
       "      <th>km_750</th>\n",
       "      <th>km_780</th>\n",
       "      <th>km_810</th>\n",
       "      <th>km_840</th>\n",
       "      <th>km_870</th>\n",
       "      <th>km_900</th>\n",
       "      <th>km_930</th>\n",
       "      <th>km_960</th>\n",
       "      <th>km_990</th>\n",
       "    </tr>\n",
       "  </thead>\n",
       "  <tbody>\n",
       "  </tbody>\n",
       "</table>\n",
       "<p>0 rows × 36 columns</p>\n",
       "</div>"
      ],
      "text/plain": [
       "Empty DataFrame\n",
       "Columns: [id, name, embeding, km_30, km_60, km_90, km_120, km_150, km_180, km_210, km_240, km_270, km_300, km_330, km_360, km_390, km_420, km_450, km_480, km_510, km_540, km_570, km_600, km_630, km_660, km_690, km_720, km_750, km_780, km_810, km_840, km_870, km_900, km_930, km_960, km_990]\n",
       "Index: []\n",
       "\n",
       "[0 rows x 36 columns]"
      ]
     },
     "execution_count": 8,
     "metadata": {},
     "output_type": "execute_result"
    }
   ],
   "source": [
    "# 34773 Nonetype\n",
    "df[df['id'] == 34773]"
   ]
  },
  {
   "cell_type": "code",
   "execution_count": null,
   "id": "0bf3f36d",
   "metadata": {},
   "outputs": [],
   "source": [
    "df.drop(labels = [21422],axis = 0, inplace = True)"
   ]
  },
  {
   "cell_type": "code",
   "execution_count": 5,
   "id": "0dcc0f50",
   "metadata": {},
   "outputs": [
    {
     "data": {
      "text/plain": [
       "(34891, 25)"
      ]
     },
     "execution_count": 5,
     "metadata": {},
     "output_type": "execute_result"
    }
   ],
   "source": [
    "df.shape"
   ]
  },
  {
   "cell_type": "code",
   "execution_count": 6,
   "id": "4ad07c6e",
   "metadata": {},
   "outputs": [
    {
     "data": {
      "text/html": [
       "<div>\n",
       "<style scoped>\n",
       "    .dataframe tbody tr th:only-of-type {\n",
       "        vertical-align: middle;\n",
       "    }\n",
       "\n",
       "    .dataframe tbody tr th {\n",
       "        vertical-align: top;\n",
       "    }\n",
       "\n",
       "    .dataframe thead th {\n",
       "        text-align: right;\n",
       "    }\n",
       "</style>\n",
       "<table border=\"1\" class=\"dataframe\">\n",
       "  <thead>\n",
       "    <tr style=\"text-align: right;\">\n",
       "      <th></th>\n",
       "      <th>id</th>\n",
       "      <th>name</th>\n",
       "      <th>embeding</th>\n",
       "      <th>km_30</th>\n",
       "      <th>km_60</th>\n",
       "      <th>km_90</th>\n",
       "      <th>km_120</th>\n",
       "      <th>km_150</th>\n",
       "      <th>km_180</th>\n",
       "      <th>km_210</th>\n",
       "      <th>...</th>\n",
       "      <th>km_390</th>\n",
       "      <th>km_420</th>\n",
       "      <th>km_450</th>\n",
       "      <th>km_480</th>\n",
       "      <th>km_510</th>\n",
       "      <th>km_540</th>\n",
       "      <th>km_570</th>\n",
       "      <th>km_600</th>\n",
       "      <th>km_630</th>\n",
       "      <th>km_660</th>\n",
       "    </tr>\n",
       "  </thead>\n",
       "  <tbody>\n",
       "    <tr>\n",
       "      <th>21245</th>\n",
       "      <td>34488</td>\n",
       "      <td>Тыквенно-апельсиновые блины с ароматом имбиря</td>\n",
       "      <td>[-0.27180707454681396, -0.054043591022491455, ...</td>\n",
       "      <td>16</td>\n",
       "      <td>13</td>\n",
       "      <td>69</td>\n",
       "      <td>5</td>\n",
       "      <td>62</td>\n",
       "      <td>39</td>\n",
       "      <td>104</td>\n",
       "      <td>...</td>\n",
       "      <td>2</td>\n",
       "      <td>259</td>\n",
       "      <td>48</td>\n",
       "      <td>413</td>\n",
       "      <td>212</td>\n",
       "      <td>99</td>\n",
       "      <td>25</td>\n",
       "      <td>36</td>\n",
       "      <td>99</td>\n",
       "      <td>99</td>\n",
       "    </tr>\n",
       "    <tr>\n",
       "      <th>30781</th>\n",
       "      <td>22640</td>\n",
       "      <td>Итальянская пицца на быстром тесте с томатами,...</td>\n",
       "      <td>[-0.41491249203681946, -0.08802352100610733, 0...</td>\n",
       "      <td>20</td>\n",
       "      <td>37</td>\n",
       "      <td>25</td>\n",
       "      <td>28</td>\n",
       "      <td>64</td>\n",
       "      <td>79</td>\n",
       "      <td>56</td>\n",
       "      <td>...</td>\n",
       "      <td>163</td>\n",
       "      <td>179</td>\n",
       "      <td>279</td>\n",
       "      <td>151</td>\n",
       "      <td>139</td>\n",
       "      <td>217</td>\n",
       "      <td>442</td>\n",
       "      <td>84</td>\n",
       "      <td>217</td>\n",
       "      <td>217</td>\n",
       "    </tr>\n",
       "    <tr>\n",
       "      <th>18604</th>\n",
       "      <td>30520</td>\n",
       "      <td>Чатни из перца и персиков</td>\n",
       "      <td>[-0.32327452301979065, 0.019079290330410004, -...</td>\n",
       "      <td>25</td>\n",
       "      <td>31</td>\n",
       "      <td>54</td>\n",
       "      <td>23</td>\n",
       "      <td>38</td>\n",
       "      <td>154</td>\n",
       "      <td>182</td>\n",
       "      <td>...</td>\n",
       "      <td>270</td>\n",
       "      <td>296</td>\n",
       "      <td>292</td>\n",
       "      <td>382</td>\n",
       "      <td>407</td>\n",
       "      <td>138</td>\n",
       "      <td>71</td>\n",
       "      <td>596</td>\n",
       "      <td>617</td>\n",
       "      <td>617</td>\n",
       "    </tr>\n",
       "    <tr>\n",
       "      <th>21334</th>\n",
       "      <td>34617</td>\n",
       "      <td>Блинчики с сыром и зеленью</td>\n",
       "      <td>[-0.4315938353538513, -0.10385119915008545, 0....</td>\n",
       "      <td>26</td>\n",
       "      <td>44</td>\n",
       "      <td>66</td>\n",
       "      <td>96</td>\n",
       "      <td>109</td>\n",
       "      <td>157</td>\n",
       "      <td>175</td>\n",
       "      <td>...</td>\n",
       "      <td>67</td>\n",
       "      <td>310</td>\n",
       "      <td>286</td>\n",
       "      <td>459</td>\n",
       "      <td>372</td>\n",
       "      <td>433</td>\n",
       "      <td>147</td>\n",
       "      <td>316</td>\n",
       "      <td>433</td>\n",
       "      <td>433</td>\n",
       "    </tr>\n",
       "    <tr>\n",
       "      <th>4191</th>\n",
       "      <td>6203</td>\n",
       "      <td>Курица с абрикосами</td>\n",
       "      <td>[-0.3884696960449219, -0.007507386151701212, -...</td>\n",
       "      <td>29</td>\n",
       "      <td>41</td>\n",
       "      <td>54</td>\n",
       "      <td>86</td>\n",
       "      <td>76</td>\n",
       "      <td>112</td>\n",
       "      <td>96</td>\n",
       "      <td>...</td>\n",
       "      <td>224</td>\n",
       "      <td>50</td>\n",
       "      <td>275</td>\n",
       "      <td>355</td>\n",
       "      <td>410</td>\n",
       "      <td>371</td>\n",
       "      <td>438</td>\n",
       "      <td>183</td>\n",
       "      <td>371</td>\n",
       "      <td>134</td>\n",
       "    </tr>\n",
       "  </tbody>\n",
       "</table>\n",
       "<p>5 rows × 25 columns</p>\n",
       "</div>"
      ],
      "text/plain": [
       "          id                                               name  \\\n",
       "21245  34488      Тыквенно-апельсиновые блины с ароматом имбиря   \n",
       "30781  22640  Итальянская пицца на быстром тесте с томатами,...   \n",
       "18604  30520                          Чатни из перца и персиков   \n",
       "21334  34617                         Блинчики с сыром и зеленью   \n",
       "4191    6203                                Курица с абрикосами   \n",
       "\n",
       "                                                embeding  km_30  km_60  km_90  \\\n",
       "21245  [-0.27180707454681396, -0.054043591022491455, ...     16     13     69   \n",
       "30781  [-0.41491249203681946, -0.08802352100610733, 0...     20     37     25   \n",
       "18604  [-0.32327452301979065, 0.019079290330410004, -...     25     31     54   \n",
       "21334  [-0.4315938353538513, -0.10385119915008545, 0....     26     44     66   \n",
       "4191   [-0.3884696960449219, -0.007507386151701212, -...     29     41     54   \n",
       "\n",
       "       km_120  km_150  km_180  km_210  ...  km_390  km_420  km_450  km_480  \\\n",
       "21245       5      62      39     104  ...       2     259      48     413   \n",
       "30781      28      64      79      56  ...     163     179     279     151   \n",
       "18604      23      38     154     182  ...     270     296     292     382   \n",
       "21334      96     109     157     175  ...      67     310     286     459   \n",
       "4191       86      76     112      96  ...     224      50     275     355   \n",
       "\n",
       "       km_510  km_540  km_570  km_600  km_630  km_660  \n",
       "21245     212      99      25      36      99      99  \n",
       "30781     139     217     442      84     217     217  \n",
       "18604     407     138      71     596     617     617  \n",
       "21334     372     433     147     316     433     433  \n",
       "4191      410     371     438     183     371     134  \n",
       "\n",
       "[5 rows x 25 columns]"
      ]
     },
     "execution_count": 6,
     "metadata": {},
     "output_type": "execute_result"
    }
   ],
   "source": [
    "df.sample(5)"
   ]
  },
  {
   "cell_type": "code",
   "execution_count": null,
   "id": "adbc3ae3",
   "metadata": {},
   "outputs": [],
   "source": [
    "# piplene обработки текста и преобразование текста в эмбединги\n",
    "def pipline(text):\n",
    "    lem = []\n",
    "    pattern = r'[^a-zA-Zа-яА-Я0-9 ]'\n",
    "    text = text.lower()\n",
    "    text = text.strip()\n",
    "    text = re.sub(pattern, '', text)\n",
    "    text = ' '.join(i for i in text.split() if i not in sw)\n",
    "    for word in text.split():\n",
    "        p = morph.parse(word)[0]\n",
    "        lem.append(p.normal_form)\n",
    "    text = ' '.join(lem)\n",
    "    tok = tokenizer([text], \n",
    "               max_length=20, truncation=True, padding='max_length', return_token_type_ids=False, return_tensors='tf')\n",
    "    text = bert(**tok)[1].numpy().tolist()[0]\n",
    "    return text\n",
    "    "
   ]
  },
  {
   "cell_type": "code",
   "execution_count": null,
   "id": "f22ea01b",
   "metadata": {},
   "outputs": [],
   "source": [
    "%%time\n",
    "df['embeding'] = df['name'].apply(pipline)"
   ]
  },
  {
   "cell_type": "code",
   "execution_count": null,
   "id": "4f713277",
   "metadata": {},
   "outputs": [],
   "source": [
    "df.head()"
   ]
  },
  {
   "cell_type": "code",
   "execution_count": null,
   "id": "97cdcd1d",
   "metadata": {},
   "outputs": [],
   "source": [
    "df.to_pickle('recipes.pickle')"
   ]
  },
  {
   "cell_type": "code",
   "execution_count": null,
   "id": "16c780fb",
   "metadata": {},
   "outputs": [],
   "source": [
    "max(df['embeding'][0])"
   ]
  },
  {
   "cell_type": "code",
   "execution_count": null,
   "id": "bbc4b12e",
   "metadata": {},
   "outputs": [],
   "source": [
    "df['embeding'][0]"
   ]
  },
  {
   "cell_type": "code",
   "execution_count": null,
   "id": "528865a4",
   "metadata": {},
   "outputs": [],
   "source": [
    "df.head()"
   ]
  },
  {
   "cell_type": "code",
   "execution_count": 7,
   "id": "6665aad5",
   "metadata": {},
   "outputs": [],
   "source": [
    "list_ = list(df['embeding'])"
   ]
  },
  {
   "cell_type": "code",
   "execution_count": null,
   "id": "110f72a3",
   "metadata": {},
   "outputs": [],
   "source": [
    "len(list_)"
   ]
  },
  {
   "cell_type": "markdown",
   "id": "b13a2088",
   "metadata": {},
   "source": [
    "# cosine distance"
   ]
  },
  {
   "cell_type": "markdown",
   "id": "46be7302",
   "metadata": {},
   "source": [
    "## кисинусное растояние для поиска ближайших токенов"
   ]
  },
  {
   "cell_type": "code",
   "execution_count": null,
   "id": "9b2abf1e",
   "metadata": {},
   "outputs": [],
   "source": [
    "from sklearn.metrics.pairwise import cosine_distances"
   ]
  },
  {
   "cell_type": "code",
   "execution_count": null,
   "id": "4b78133e",
   "metadata": {},
   "outputs": [],
   "source": [
    "a = list([pipline('суп')])\n",
    "len(a)"
   ]
  },
  {
   "cell_type": "code",
   "execution_count": null,
   "id": "e42332fd",
   "metadata": {},
   "outputs": [],
   "source": [
    "b = list([df.iloc[0,2]])\n",
    "len(b)"
   ]
  },
  {
   "cell_type": "code",
   "execution_count": null,
   "id": "eee3c5ac",
   "metadata": {},
   "outputs": [],
   "source": [
    "1 - cosine_distances(a,b)"
   ]
  },
  {
   "cell_type": "code",
   "execution_count": null,
   "id": "1af343b5",
   "metadata": {},
   "outputs": [],
   "source": [
    "dict_emb = {k:[v] for k, v in df[['id', 'embeding']].iterrows()}"
   ]
  },
  {
   "cell_type": "code",
   "execution_count": null,
   "id": "08961eaf",
   "metadata": {},
   "outputs": [],
   "source": [
    "1 - cosine_distances(a, [list(dict_emb.values())[1][0][1]])"
   ]
  },
  {
   "cell_type": "code",
   "execution_count": null,
   "id": "6f2fd436",
   "metadata": {},
   "outputs": [],
   "source": [
    "%%time\n",
    "res = []\n",
    "dis = []\n",
    "for k,v in dict_emb.items():\n",
    "#     print(v[0][1])\n",
    "    distance = cosine_distances(a, [v[0][1]])\n",
    "    \n",
    "    if distance > 0.6:\n",
    "        dis.append(distance)\n",
    "        res.append(k)"
   ]
  },
  {
   "cell_type": "code",
   "execution_count": null,
   "id": "28eea6e0",
   "metadata": {},
   "outputs": [],
   "source": [
    "len(res)"
   ]
  },
  {
   "cell_type": "code",
   "execution_count": null,
   "id": "a233b378",
   "metadata": {},
   "outputs": [],
   "source": [
    "for i in res:\n",
    "    print(df['name'][df['id'] == i])\n",
    "# res"
   ]
  },
  {
   "cell_type": "markdown",
   "id": "5fb36424",
   "metadata": {},
   "source": [
    "# Метод локтя"
   ]
  },
  {
   "cell_type": "markdown",
   "id": "f591b88c",
   "metadata": {},
   "source": [
    "## для определения кол-ва кластеров"
   ]
  },
  {
   "cell_type": "code",
   "execution_count": null,
   "id": "b564b438",
   "metadata": {},
   "outputs": [],
   "source": [
    "# determining the maximum number of clusters\n",
    "# using the simple method\n",
    "limit = int((df.shape[0]//2)**0.5)\n",
    " \n",
    "# selecting optimal value of 'k'\n",
    "# using elbow method\n",
    " \n",
    "# wcss - within cluster sum of\n",
    "# squared distances\n",
    "wcss = {}\n",
    " \n",
    "for k in range(2,limit+1):\n",
    "    model = KMeans(n_clusters=k)\n",
    "    model.fit(list_)\n",
    "    wcss[k] = model.inertia_\n",
    "     \n",
    "# plotting the wcss values\n",
    "# to find out the elbow value\n",
    "plt.plot(wcss.keys(), wcss.values(), 'gs-')\n",
    "plt.xlabel('Values of \"k\"')\n",
    "plt.ylabel('name')\n",
    "plt.show()"
   ]
  },
  {
   "cell_type": "code",
   "execution_count": null,
   "id": "b8171e9e",
   "metadata": {},
   "outputs": [],
   "source": [
    "# метод локтя 20-40 кластеров"
   ]
  },
  {
   "cell_type": "markdown",
   "id": "0c55aff1",
   "metadata": {},
   "source": [
    "# Kmeans"
   ]
  },
  {
   "cell_type": "code",
   "execution_count": null,
   "id": "ff04f567",
   "metadata": {},
   "outputs": [],
   "source": [
    "kmeans = KMeans(n_clusters=40, random_state=0).fit(list_)"
   ]
  },
  {
   "cell_type": "code",
   "execution_count": null,
   "id": "77afa184",
   "metadata": {},
   "outputs": [],
   "source": [
    "km_40 = kmeans.fit(list_)"
   ]
  },
  {
   "cell_type": "code",
   "execution_count": null,
   "id": "222c84c5",
   "metadata": {},
   "outputs": [],
   "source": [
    "df['km'] = kmeans.labels_"
   ]
  },
  {
   "cell_type": "code",
   "execution_count": null,
   "id": "a0b425a3",
   "metadata": {},
   "outputs": [],
   "source": [
    "df.head()"
   ]
  },
  {
   "cell_type": "code",
   "execution_count": 8,
   "id": "e87e9fc0",
   "metadata": {},
   "outputs": [
    {
     "name": "stderr",
     "output_type": "stream",
     "text": [
      "100%|███████████████████████████████████████████████████████████████████████████████| 12/12 [1:22:42<00:00, 413.51s/it]\n"
     ]
    }
   ],
   "source": [
    "# обучение на разном кол-ве кластеров для определения лучшего кол-ва\n",
    "for i in tqdm(range(660, 1010, 30)):\n",
    "    kmeans = KMeans(n_clusters=i, random_state=13).fit(list_)\n",
    "    pickle.dump(kmeans, open(f\"models/kmeans_{i}_cl.pkl\", \"wb\"))\n",
    "    df[f'km_{i}'] = kmeans.labels_\n",
    "    df.to_pickle('df_km.pickle')"
   ]
  },
  {
   "cell_type": "code",
   "execution_count": null,
   "id": "b5c75279",
   "metadata": {},
   "outputs": [],
   "source": [
    "df.to_pickle('df_km.pickle')"
   ]
  },
  {
   "cell_type": "code",
   "execution_count": 9,
   "id": "de21317b",
   "metadata": {},
   "outputs": [
    {
     "data": {
      "text/plain": [
       "(34891, 36)"
      ]
     },
     "execution_count": 9,
     "metadata": {},
     "output_type": "execute_result"
    }
   ],
   "source": [
    "df.shape"
   ]
  },
  {
   "cell_type": "markdown",
   "id": "9f8ebce8",
   "metadata": {},
   "source": [
    "# Метод Силуэта"
   ]
  },
  {
   "cell_type": "markdown",
   "id": "c775c5dd",
   "metadata": {},
   "source": [
    "## метод для обнаружения кол-ва кластеров( метод локтя отработал с представленными данными лучше)"
   ]
  },
  {
   "cell_type": "code",
   "execution_count": null,
   "id": "da96e5fe",
   "metadata": {},
   "outputs": [],
   "source": []
  },
  {
   "cell_type": "code",
   "execution_count": null,
   "id": "e9b73901",
   "metadata": {},
   "outputs": [],
   "source": [
    "\n",
    "# determining the maximum number of clusters\n",
    "# using the simple method\n",
    "limit = int((df.shape[0]//2)**0.5)\n",
    " \n",
    "# determining number of clusters\n",
    "# using silhouette score method\n",
    "for k in tqdm(range(2, limit+1)):\n",
    "    model = KMeans(n_clusters=k)\n",
    "    model.fit(list_)\n",
    "    pred = model.predict(list_)\n",
    "    score = silhouette_score(list_, pred)\n",
    "    print('Silhouette Score for k = {}: {:<.3f}'.format(k, score))"
   ]
  },
  {
   "cell_type": "markdown",
   "id": "a99df7d1",
   "metadata": {},
   "source": [
    "# Иерархическая кластеризация"
   ]
  },
  {
   "cell_type": "markdown",
   "id": "75767690",
   "metadata": {},
   "source": [
    "## сама определяет кол-во кластеров(данных много и они похожи между собой, метод локтя с kmeans отработали лучше)"
   ]
  },
  {
   "cell_type": "code",
   "execution_count": null,
   "id": "9356ae2f",
   "metadata": {},
   "outputs": [],
   "source": [
    "# Реализация иерархической кластеризации при помощи функции linkage\n",
    "mergings = linkage(list_, method='complete')"
   ]
  },
  {
   "cell_type": "code",
   "execution_count": null,
   "id": "6b71625a",
   "metadata": {},
   "outputs": [],
   "source": [
    "len(mergings)"
   ]
  },
  {
   "cell_type": "code",
   "execution_count": null,
   "id": "b6c2a73c",
   "metadata": {},
   "outputs": [],
   "source": [
    "mergings = np.append(mergings, mergings[34889])"
   ]
  },
  {
   "cell_type": "code",
   "execution_count": null,
   "id": "7742dfe3",
   "metadata": {},
   "outputs": [],
   "source": [
    "mergings.append(mergings[34889])"
   ]
  },
  {
   "cell_type": "code",
   "execution_count": null,
   "id": "b57aaf30",
   "metadata": {},
   "outputs": [],
   "source": [
    "df['pred'] = mergings[34889]"
   ]
  },
  {
   "cell_type": "code",
   "execution_count": null,
   "id": "2081237d",
   "metadata": {},
   "outputs": [],
   "source": [
    "df.shape"
   ]
  }
 ],
 "metadata": {
  "kernelspec": {
   "display_name": "Python 3 (ipykernel)",
   "language": "python",
   "name": "python3"
  },
  "language_info": {
   "codemirror_mode": {
    "name": "ipython",
    "version": 3
   },
   "file_extension": ".py",
   "mimetype": "text/x-python",
   "name": "python",
   "nbconvert_exporter": "python",
   "pygments_lexer": "ipython3",
   "version": "3.7.9"
  }
 },
 "nbformat": 4,
 "nbformat_minor": 5
}
